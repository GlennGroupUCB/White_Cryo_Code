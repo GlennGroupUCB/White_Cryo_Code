{
 "cells": [
  {
   "cell_type": "code",
   "execution_count": 1,
   "metadata": {
    "collapsed": true
   },
   "outputs": [],
   "source": [
    "import numpy as np\n",
    "import matplotlib.pyplot as plt\n",
    "import serial"
   ]
  },
  {
   "cell_type": "code",
   "execution_count": 3,
   "metadata": {
    "collapsed": false
   },
   "outputs": [],
   "source": [
    "#serial documentation: https://pythonhosted.org/pyserial/shortintro.html"
   ]
  },
  {
   "cell_type": "code",
   "execution_count": 4,
   "metadata": {
    "collapsed": false
   },
   "outputs": [],
   "source": [
    "#in the american magnetics model 430 documentation, the specs for communication over an RS232 link are:\n",
    "#\"The Model 430 Programmer uses the following parameters related to the\n",
    "#RS-232 interface:\n",
    "#• Baud Rate: 115200\n",
    "#• Parity: No Parity\n",
    "#• Data Bits: 8 Data Bits\n",
    "#• Number of Start Bits: 1 bit\n",
    "#• Number of Stop Bits: 1 bit\n",
    "#• Flow Control: Hardware (RTS/CTS)"
   ]
  },
  {
   "cell_type": "code",
   "execution_count": 2,
   "metadata": {
    "collapsed": false
   },
   "outputs": [],
   "source": [
    "#in a terminal, I had the computer list the serial communication links available with python -m serial.tools.list_ports -v\n",
    "#  and it told me COM4, COM5, and COM6 are the available serial links. \n",
    "#the power supply thing is attached to com5.\n",
    "\n",
    "com5 = serial.Serial('COM6',115200,rtscts=1, timeout=2)"
   ]
  },
  {
   "cell_type": "code",
   "execution_count": 3,
   "metadata": {
    "collapsed": false
   },
   "outputs": [
    {
     "data": {
      "text/plain": [
       "Serial<id=0xa7bda58, open=True>(port='COM6', baudrate=115200, bytesize=8, parity='N', stopbits=1, timeout=2, xonxoff=False, rtscts=1, dsrdtr=False)"
      ]
     },
     "execution_count": 3,
     "metadata": {},
     "output_type": "execute_result"
    }
   ],
   "source": [
    "com5"
   ]
  },
  {
   "cell_type": "code",
   "execution_count": 4,
   "metadata": {
    "collapsed": false
   },
   "outputs": [
    {
     "data": {
      "text/plain": [
       "'0.5000\\r\\n'"
      ]
     },
     "execution_count": 4,
     "metadata": {},
     "output_type": "execute_result"
    }
   ],
   "source": [
    "###############THESE COMMANDS ARE FUNCTIONAL! now I need to figure out how to get outputs, \n",
    "####   \n",
    "com5.write('SYSTem:REMote\\n')\n",
    "#com5.write('SYSTem:LOCal\\n')\n",
    "\n",
    "com5.write('CONF:CURR:TARG 0.5\\n')\n",
    "com5.write('CURR:TARG?\\n')\n",
    "com5.readline()"
   ]
  },
  {
   "cell_type": "code",
   "execution_count": null,
   "metadata": {
    "collapsed": false
   },
   "outputs": [],
   "source": [
    "#com5.write('FIELD:UNITS?\\n')\n",
    "#com5.readline()"
   ]
  },
  {
   "cell_type": "code",
   "execution_count": 5,
   "metadata": {
    "collapsed": true
   },
   "outputs": [],
   "source": [
    "com5.close()"
   ]
  },
  {
   "cell_type": "code",
   "execution_count": null,
   "metadata": {
    "collapsed": true
   },
   "outputs": [],
   "source": []
  },
  {
   "cell_type": "code",
   "execution_count": null,
   "metadata": {
    "collapsed": false
   },
   "outputs": [],
   "source": [
    "#Returns “0” for ramp rates displayed/specified in terms of seconds, or “1” for minutes.\n",
    "com5.write('RAMP:RATE:UNITS?\\n') \n",
    "com5.readline()"
   ]
  },
  {
   "cell_type": "code",
   "execution_count": null,
   "metadata": {
    "collapsed": false
   },
   "outputs": [],
   "source": [
    "#Returns the target current setting in amperes.\n",
    "com5.write('CURR:TARG?\\n')\n",
    "com5.readline()"
   ]
  },
  {
   "cell_type": "code",
   "execution_count": null,
   "metadata": {
    "collapsed": false
   },
   "outputs": [],
   "source": [
    "#Returns the ramp rate setting for the specified segment (values of 1 through the defined number of ramp segments are valid) in units of A/sec\n",
    "com5.write('RAMP:RATE:CURRENT:1?\\n')\n",
    "com5.readline()"
   ]
  },
  {
   "cell_type": "code",
   "execution_count": null,
   "metadata": {
    "collapsed": false
   },
   "outputs": [],
   "source": [
    "#CONFigure:RAMP:RATE:CURRent <segment>,<rate (A/s, A/min)>, <upper bound (A)>\n",
    "com5.write('CONFigure:RAMP:RATE:CURRent:1,.005,10\\n')\n",
    "com5.write('RAMP:RATE:CURRENT:1?\\n')\n",
    "com5.readline()"
   ]
  },
  {
   "cell_type": "code",
   "execution_count": null,
   "metadata": {
    "collapsed": false
   },
   "outputs": [],
   "source": [
    "#ramp up to the current target\n",
    "com5.write('RAMP\\n')"
   ]
  },
  {
   "cell_type": "code",
   "execution_count": null,
   "metadata": {
    "collapsed": false
   },
   "outputs": [],
   "source": [
    "#pause ramping\n",
    "com5.write('PAUSE\\n')"
   ]
  },
  {
   "cell_type": "code",
   "execution_count": null,
   "metadata": {
    "collapsed": false
   },
   "outputs": [],
   "source": [
    "#ramp down current to zero\n",
    "com5.write('ZERO\\n')"
   ]
  },
  {
   "cell_type": "code",
   "execution_count": null,
   "metadata": {
    "collapsed": true
   },
   "outputs": [],
   "source": [
    "#########problem: the supply doesn't seem to pay any attention to the ramp rate, which is bad."
   ]
  }
 ],
 "metadata": {
  "kernelspec": {
   "display_name": "Python 2",
   "language": "python",
   "name": "python2"
  },
  "language_info": {
   "codemirror_mode": {
    "name": "ipython",
    "version": 2
   },
   "file_extension": ".py",
   "mimetype": "text/x-python",
   "name": "python",
   "nbconvert_exporter": "python",
   "pygments_lexer": "ipython2",
   "version": "2.7.10"
  }
 },
 "nbformat": 4,
 "nbformat_minor": 0
}
